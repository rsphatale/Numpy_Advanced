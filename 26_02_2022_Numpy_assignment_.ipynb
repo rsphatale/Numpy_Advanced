{
  "nbformat": 4,
  "nbformat_minor": 0,
  "metadata": {
    "colab": {
      "name": "26_02_2022_Numpy_assignment_.ipynb",
      "provenance": [],
      "collapsed_sections": []
    },
    "kernelspec": {
      "name": "python3",
      "display_name": "Python 3"
    },
    "language_info": {
      "name": "python"
    }
  },
  "cells": [
    {
      "cell_type": "code",
      "execution_count": 1,
      "metadata": {
        "id": "rxjD0n3vfOpX"
      },
      "outputs": [],
      "source": [
        "import numpy as np"
      ]
    },
    {
      "cell_type": "code",
      "source": [
        "mylist= [10,20,30,'Apple', True, 8.20]\n",
        "print(type(mylist))"
      ],
      "metadata": {
        "colab": {
          "base_uri": "https://localhost:8080/"
        },
        "id": "BIF-pFAVfcKW",
        "outputId": "cc4bea97-c927-4dfe-b187-cf5add1fb282"
      },
      "execution_count": null,
      "outputs": [
        {
          "output_type": "stream",
          "name": "stdout",
          "text": [
            "<class 'list'>\n"
          ]
        }
      ]
    },
    {
      "cell_type": "code",
      "source": [
        "mylist.extend([30,40])\n",
        "mylist\n",
        "# using mylist.append() will create a list in list"
      ],
      "metadata": {
        "colab": {
          "base_uri": "https://localhost:8080/"
        },
        "id": "j9N4Ropxf2KO",
        "outputId": "f49ffd76-8e0f-4c63-ad52-a293ccb4ca95"
      },
      "execution_count": null,
      "outputs": [
        {
          "output_type": "execute_result",
          "data": {
            "text/plain": [
              "[10, 20, 30, 'Apple', True, 8.2, 30, 40]"
            ]
          },
          "metadata": {},
          "execution_count": 3
        }
      ]
    },
    {
      "cell_type": "code",
      "source": [
        "mylist.reverse\n",
        "\n",
        "print(mylist.reverse)\n",
        "# .reverse() do not work because "
      ],
      "metadata": {
        "colab": {
          "base_uri": "https://localhost:8080/"
        },
        "id": "NhzumZEigNZO",
        "outputId": "5e773483-9fa3-4e74-d5bf-e612035a3416"
      },
      "execution_count": null,
      "outputs": [
        {
          "output_type": "stream",
          "name": "stdout",
          "text": [
            "<built-in method reverse of list object at 0x7ff544a015f0>\n"
          ]
        }
      ]
    },
    {
      "cell_type": "code",
      "source": [
        "reversed_list= mylist[::-1]\n",
        "print(reversed_list)\n",
        "# in mylist[::-1] first : indicates a start value, second : indicates end value and -1 indicates reverse "
      ],
      "metadata": {
        "colab": {
          "base_uri": "https://localhost:8080/"
        },
        "id": "_0GpwsfJgadO",
        "outputId": "c13d9374-11b2-4400-b016-82f6934eb9da"
      },
      "execution_count": null,
      "outputs": [
        {
          "output_type": "stream",
          "name": "stdout",
          "text": [
            "[40, 30, 8.2, True, 'Apple', 30, 20, 10]\n"
          ]
        }
      ]
    },
    {
      "cell_type": "code",
      "source": [
        "diction= {1 :'data', 2: 'information', 3:'text'}\n",
        "print(type(diction))\n",
        "print(diction)\n",
        "\n",
        "# to create the dictionary"
      ],
      "metadata": {
        "colab": {
          "base_uri": "https://localhost:8080/"
        },
        "id": "BfiurrQkgxoE",
        "outputId": "c8f3f57c-8c0e-409a-c909-f8db4583f437"
      },
      "execution_count": null,
      "outputs": [
        {
          "output_type": "stream",
          "name": "stdout",
          "text": [
            "<class 'dict'>\n",
            "{1: 'data', 2: 'information', 3: 'text'}\n"
          ]
        }
      ]
    },
    {
      "cell_type": "code",
      "source": [
        "diction.pop(3)\n",
        "diction\n",
        "# to remove the element"
      ],
      "metadata": {
        "colab": {
          "base_uri": "https://localhost:8080/",
          "height": 36
        },
        "id": "ywC3kYc1k7QK",
        "outputId": "e018e746-200c-40c1-d92c-627408369386"
      },
      "execution_count": null,
      "outputs": [
        {
          "output_type": "execute_result",
          "data": {
            "application/vnd.google.colaboratory.intrinsic+json": {
              "type": "string"
            },
            "text/plain": [
              "'text'"
            ]
          },
          "metadata": {},
          "execution_count": 27
        }
      ]
    },
    {
      "cell_type": "code",
      "source": [
        "diction.update({4: 'features'})\n",
        "diction\n",
        "# first method to add key and value"
      ],
      "metadata": {
        "colab": {
          "base_uri": "https://localhost:8080/"
        },
        "id": "mHMhKuR3ln4I",
        "outputId": "d1ef9cd2-047e-42c1-b198-984ccbdbcc82"
      },
      "execution_count": null,
      "outputs": [
        {
          "output_type": "execute_result",
          "data": {
            "text/plain": [
              "{1: 'data', 2: 'information', 4: 'features'}"
            ]
          },
          "metadata": {},
          "execution_count": 30
        }
      ]
    },
    {
      "cell_type": "code",
      "source": [
        "diction[5]= 'Rohit'\n",
        "diction\n",
        "# second method to add key and value"
      ],
      "metadata": {
        "colab": {
          "base_uri": "https://localhost:8080/"
        },
        "id": "pz6_u56nlyWD",
        "outputId": "0029379f-51ec-49e9-c10b-ed9c6dbbb6f1"
      },
      "execution_count": null,
      "outputs": [
        {
          "output_type": "execute_result",
          "data": {
            "text/plain": [
              "{1: 'data', 2: 'information', 4: 'features', 5: 'Rohit'}"
            ]
          },
          "metadata": {},
          "execution_count": 31
        }
      ]
    },
    {
      "cell_type": "code",
      "source": [
        "diction[1]\n",
        "# to fetch the first element"
      ],
      "metadata": {
        "colab": {
          "base_uri": "https://localhost:8080/",
          "height": 36
        },
        "id": "G6Z6g-U7mAMA",
        "outputId": "df52e8b8-9bfd-4c9b-d2db-3c3a847516d7"
      },
      "execution_count": null,
      "outputs": [
        {
          "output_type": "execute_result",
          "data": {
            "application/vnd.google.colaboratory.intrinsic+json": {
              "type": "string"
            },
            "text/plain": [
              "'data'"
            ]
          },
          "metadata": {},
          "execution_count": 32
        }
      ]
    },
    {
      "cell_type": "code",
      "source": [
        "my_tuple= (1,2,3,'apple','Mango')\n",
        "print(type(my_tuple))\n",
        "print(my_tuple)"
      ],
      "metadata": {
        "colab": {
          "base_uri": "https://localhost:8080/"
        },
        "id": "gYN4yBSqm8ug",
        "outputId": "eeeced8c-a73e-44cb-89b3-30ba7103b663"
      },
      "execution_count": null,
      "outputs": [
        {
          "output_type": "stream",
          "name": "stdout",
          "text": [
            "<class 'tuple'>\n",
            "(1, 2, 3, 'apple', 'Mango')\n"
          ]
        }
      ]
    },
    {
      "cell_type": "code",
      "source": [
        "tup1=(1,2,3)\n",
        "tup2=('apple', 'mango')"
      ],
      "metadata": {
        "id": "zfAZvkKOnxRj"
      },
      "execution_count": null,
      "outputs": []
    },
    {
      "cell_type": "code",
      "source": [
        "my_tuple2=tup1+ tup2\n",
        "print(type(my_tuple2))\n",
        "print(my_tuple2)"
      ],
      "metadata": {
        "colab": {
          "base_uri": "https://localhost:8080/"
        },
        "id": "onFDLMqKo6vV",
        "outputId": "a87683f3-d803-49b2-ff7a-0e1c700d9d9f"
      },
      "execution_count": null,
      "outputs": [
        {
          "output_type": "stream",
          "name": "stdout",
          "text": [
            "<class 'tuple'>\n",
            "(1, 2, 3, 'apple', 'mango')\n"
          ]
        }
      ]
    },
    {
      "cell_type": "code",
      "source": [
        "numeric_tuple= (10,20,30,40,50,60)\n",
        "print(type(numeric_tuple))\n",
        "print(numeric_tuple)"
      ],
      "metadata": {
        "colab": {
          "base_uri": "https://localhost:8080/"
        },
        "id": "Nhx4RXbfpDQ0",
        "outputId": "d92cdc8f-e19d-475c-952d-034223375541"
      },
      "execution_count": null,
      "outputs": [
        {
          "output_type": "stream",
          "name": "stdout",
          "text": [
            "<class 'tuple'>\n",
            "(10, 20, 30, 40, 50, 60)\n"
          ]
        }
      ]
    },
    {
      "cell_type": "code",
      "source": [
        "min(numeric_tuple)\n",
        "# to get min vlaue"
      ],
      "metadata": {
        "colab": {
          "base_uri": "https://localhost:8080/"
        },
        "id": "c4tabla_sSCR",
        "outputId": "a4e1e2ce-4516-443f-afe8-beafa8af43b2"
      },
      "execution_count": null,
      "outputs": [
        {
          "output_type": "execute_result",
          "data": {
            "text/plain": [
              "10"
            ]
          },
          "metadata": {},
          "execution_count": 39
        }
      ]
    },
    {
      "cell_type": "code",
      "source": [
        "np.min(numeric_tuple)"
      ],
      "metadata": {
        "colab": {
          "base_uri": "https://localhost:8080/"
        },
        "id": "p-zH20vSso4E",
        "outputId": "e34411f0-80f0-43c8-9351-1ea21773af15"
      },
      "execution_count": null,
      "outputs": [
        {
          "output_type": "execute_result",
          "data": {
            "text/plain": [
              "10"
            ]
          },
          "metadata": {},
          "execution_count": 40
        }
      ]
    },
    {
      "cell_type": "code",
      "source": [
        "r1= np.concatenate((my_tuple, numeric_tuple), axis= 0)\n",
        "r1\n",
        "# concatenate = add"
      ],
      "metadata": {
        "colab": {
          "base_uri": "https://localhost:8080/"
        },
        "id": "_To9wznNsy3c",
        "outputId": "f5d73967-f06d-49d0-8972-d8b43f4a25d4"
      },
      "execution_count": null,
      "outputs": [
        {
          "output_type": "execute_result",
          "data": {
            "text/plain": [
              "array(['1', '2', '3', 'apple', 'Mango', '10', '20', '30', '40', '50',\n",
              "       '60'], dtype='<U21')"
            ]
          },
          "metadata": {},
          "execution_count": 43
        }
      ]
    },
    {
      "cell_type": "code",
      "source": [
        "newdupli= my_tuple*2\n",
        "newdupli\n",
        "# duplicate the tuples"
      ],
      "metadata": {
        "colab": {
          "base_uri": "https://localhost:8080/"
        },
        "id": "Y8vRWM5TtA5J",
        "outputId": "458a3c50-b717-4534-b6a3-41283df261ab"
      },
      "execution_count": null,
      "outputs": [
        {
          "output_type": "execute_result",
          "data": {
            "text/plain": [
              "(1, 2, 3, 'apple', 'Mango', 1, 2, 3, 'apple', 'Mango')"
            ]
          },
          "metadata": {},
          "execution_count": 44
        }
      ]
    },
    {
      "cell_type": "code",
      "source": [
        "set1= {1,2,3,4,5}\n",
        "set2= {2,3,7,6,1}\n",
        "print(type(set1))\n",
        "# create set"
      ],
      "metadata": {
        "colab": {
          "base_uri": "https://localhost:8080/"
        },
        "id": "o6dmjpIQt2NZ",
        "outputId": "b3dafc78-c570-4e6f-b7a1-276b78a516fc"
      },
      "execution_count": null,
      "outputs": [
        {
          "output_type": "stream",
          "name": "stdout",
          "text": [
            "<class 'set'>\n"
          ]
        }
      ]
    },
    {
      "cell_type": "code",
      "source": [
        "# union of set1 and set2\n",
        "# union will take \"unique values\"\n",
        "print(set1.union(set2))"
      ],
      "metadata": {
        "colab": {
          "base_uri": "https://localhost:8080/"
        },
        "id": "uM9PdyHuuJe2",
        "outputId": "c96b9256-3630-4fe9-a6a0-b2b6dce04dc9"
      },
      "execution_count": null,
      "outputs": [
        {
          "output_type": "stream",
          "name": "stdout",
          "text": [
            "{1, 2, 3, 4, 5, 6, 7}\n"
          ]
        }
      ]
    },
    {
      "cell_type": "code",
      "source": [
        "set1.union(set2)"
      ],
      "metadata": {
        "colab": {
          "base_uri": "https://localhost:8080/"
        },
        "id": "A-M3JL2HxQQl",
        "outputId": "7bad4107-fd7e-4ecc-9dcf-cb9ee53e802b"
      },
      "execution_count": null,
      "outputs": [
        {
          "output_type": "execute_result",
          "data": {
            "text/plain": [
              "{1, 2, 3, 4, 5, 6, 7}"
            ]
          },
          "metadata": {},
          "execution_count": 53
        }
      ]
    },
    {
      "cell_type": "code",
      "source": [
        "print(set1.intersection(set2))"
      ],
      "metadata": {
        "colab": {
          "base_uri": "https://localhost:8080/"
        },
        "id": "dvQao0q9xTDK",
        "outputId": "3fa6eeb2-d62e-4ce7-b2c9-c10b946b4399"
      },
      "execution_count": null,
      "outputs": [
        {
          "output_type": "stream",
          "name": "stdout",
          "text": [
            "{1, 2, 3}\n"
          ]
        }
      ]
    },
    {
      "cell_type": "code",
      "source": [
        "# intersection of set1 and set2\n",
        "# intersection takes \"only common values\" between two sets\n",
        "set1.intersection(set2)"
      ],
      "metadata": {
        "colab": {
          "base_uri": "https://localhost:8080/"
        },
        "id": "dmgpGmFqvzVj",
        "outputId": "58ceffaf-fba9-47ba-e851-2c082ef3a62c"
      },
      "execution_count": null,
      "outputs": [
        {
          "output_type": "execute_result",
          "data": {
            "text/plain": [
              "{1, 2, 3}"
            ]
          },
          "metadata": {},
          "execution_count": 52
        }
      ]
    },
    {
      "cell_type": "code",
      "source": [
        "# to get difference\n",
        "print(set1-set2)"
      ],
      "metadata": {
        "colab": {
          "base_uri": "https://localhost:8080/"
        },
        "id": "LpfQQ8FrwNTp",
        "outputId": "abf6939e-003b-4164-dc74-ab189c840f09"
      },
      "execution_count": null,
      "outputs": [
        {
          "output_type": "stream",
          "name": "stdout",
          "text": [
            "{4, 5}\n"
          ]
        }
      ]
    },
    {
      "cell_type": "code",
      "source": [
        "set1.difference(set2)"
      ],
      "metadata": {
        "colab": {
          "base_uri": "https://localhost:8080/"
        },
        "id": "3MdYIXV3xDGd",
        "outputId": "732ca4ef-f7a7-43f5-c731-477a2323104a"
      },
      "execution_count": null,
      "outputs": [
        {
          "output_type": "execute_result",
          "data": {
            "text/plain": [
              "{4, 5}"
            ]
          },
          "metadata": {},
          "execution_count": 51
        }
      ]
    },
    {
      "cell_type": "code",
      "source": [
        "# Create matrix\n",
        "mat= np.arange(2,11).reshape(3,3)\n",
        "mat"
      ],
      "metadata": {
        "colab": {
          "base_uri": "https://localhost:8080/"
        },
        "id": "E-WflWF-wb65",
        "outputId": "9adee8ea-433a-4f0b-8481-0e91861158e7"
      },
      "execution_count": null,
      "outputs": [
        {
          "output_type": "execute_result",
          "data": {
            "text/plain": [
              "array([[ 2,  3,  4],\n",
              "       [ 5,  6,  7],\n",
              "       [ 8,  9, 10]])"
            ]
          },
          "metadata": {},
          "execution_count": 57
        }
      ]
    },
    {
      "cell_type": "code",
      "source": [
        "y=[]\n",
        "a= int(input('size of array: '))\n",
        "for i in range(a):\n",
        "  x= int(input('Element'))\n",
        "  y.append(x)\n",
        "c= np.array(y)\n",
        "print('original array is: ', c)\n",
        "\n",
        "z= np.array(c, dtype= float)\n",
        "print('converted array is: ', z)"
      ],
      "metadata": {
        "colab": {
          "base_uri": "https://localhost:8080/"
        },
        "id": "Mtv8YmBayAP_",
        "outputId": "ca45e5c3-23e2-4de8-f75e-bd3dfe27d75d"
      },
      "execution_count": null,
      "outputs": [
        {
          "output_type": "stream",
          "name": "stdout",
          "text": [
            "size of array: 4\n",
            "Element1\n",
            "Element2\n",
            "Element3\n",
            "Element4\n",
            "original array is:  [1 2 3 4]\n",
            "converted array is:  [1. 2. 3. 4.]\n"
          ]
        }
      ]
    },
    {
      "cell_type": "code",
      "source": [
        "arr1= np.array([10,20,30])\n",
        "arr1\n"
      ],
      "metadata": {
        "colab": {
          "base_uri": "https://localhost:8080/"
        },
        "id": "1Ajh4a9NyZ-v",
        "outputId": "5ac33b3f-75e2-46e1-b1f3-0dc1f4c10900"
      },
      "execution_count": null,
      "outputs": [
        {
          "output_type": "execute_result",
          "data": {
            "text/plain": [
              "array([10, 20, 30])"
            ]
          },
          "metadata": {},
          "execution_count": 68
        }
      ]
    },
    {
      "cell_type": "code",
      "source": [
        "arr1= np.append(arr1,[[40,50,60,70,80,90]])\n",
        "print(arr1)"
      ],
      "metadata": {
        "colab": {
          "base_uri": "https://localhost:8080/"
        },
        "id": "2T_GKxI700V1",
        "outputId": "255702e3-36ae-4fbf-b895-f024a1c6a4a4"
      },
      "execution_count": null,
      "outputs": [
        {
          "output_type": "stream",
          "name": "stdout",
          "text": [
            "[10 20 30 40 50 60 70 80 90]\n"
          ]
        }
      ]
    },
    {
      "cell_type": "code",
      "source": [
        "a= np.array([10,20,30])\n",
        "b= np.array([40,50,60,70,80,90])\n",
        "np.append(a,b)"
      ],
      "metadata": {
        "colab": {
          "base_uri": "https://localhost:8080/"
        },
        "id": "YgeP_kh21FRL",
        "outputId": "07e16968-3ee7-4ed8-cb49-456b072ecb12"
      },
      "execution_count": null,
      "outputs": [
        {
          "output_type": "execute_result",
          "data": {
            "text/plain": [
              "array([10, 20, 30, 40, 50, 60, 70, 80, 90])"
            ]
          },
          "metadata": {},
          "execution_count": 73
        }
      ]
    },
    {
      "cell_type": "code",
      "source": [
        "x= np.array([10,20,30])\n",
        "y= np.array([40,50,60])\n",
        "sumArray= np.add(x,y)\n",
        "print(sumArray)\n",
        "# to add np.array"
      ],
      "metadata": {
        "colab": {
          "base_uri": "https://localhost:8080/"
        },
        "id": "OHFeLzDD1k9d",
        "outputId": "33dfd1ed-900a-4f4b-b0e9-83b9a6113c8a"
      },
      "execution_count": null,
      "outputs": [
        {
          "output_type": "stream",
          "name": "stdout",
          "text": [
            "[50 70 90]\n"
          ]
        }
      ]
    },
    {
      "cell_type": "code",
      "source": [
        "print(x+y)"
      ],
      "metadata": {
        "colab": {
          "base_uri": "https://localhost:8080/"
        },
        "id": "rhUM6wSF1-Xt",
        "outputId": "79479229-40d7-4b0d-f11d-41a67fdc08b8"
      },
      "execution_count": null,
      "outputs": [
        {
          "output_type": "stream",
          "name": "stdout",
          "text": [
            "[50 70 90]\n"
          ]
        }
      ]
    },
    {
      "cell_type": "markdown",
      "source": [
        "# solved"
      ],
      "metadata": {
        "id": "XZdLlHhA4WEJ"
      }
    },
    {
      "cell_type": "code",
      "source": [
        "a= np.arange(1,10)\n",
        "array1= np.reshape(a,(3,3))\n",
        "array1"
      ],
      "metadata": {
        "colab": {
          "base_uri": "https://localhost:8080/"
        },
        "id": "JBBb3u961_OH",
        "outputId": "58631ce1-634b-4365-9b4b-6e1d2346d54b"
      },
      "execution_count": 12,
      "outputs": [
        {
          "output_type": "execute_result",
          "data": {
            "text/plain": [
              "array([[1, 2, 3],\n",
              "       [4, 5, 6],\n",
              "       [7, 8, 9]])"
            ]
          },
          "metadata": {},
          "execution_count": 12
        }
      ]
    },
    {
      "cell_type": "code",
      "source": [
        ""
      ],
      "metadata": {
        "id": "Hhv3dlxO2avS"
      },
      "execution_count": null,
      "outputs": []
    },
    {
      "cell_type": "markdown",
      "source": [
        "# case study Numpy "
      ],
      "metadata": {
        "id": "gEgOwPPf4ahW"
      }
    },
    {
      "cell_type": "code",
      "source": [
        "a= np.full((3,3), 5)\n",
        "a"
      ],
      "metadata": {
        "colab": {
          "base_uri": "https://localhost:8080/"
        },
        "id": "xUTOQvVc4cn6",
        "outputId": "505ad32a-287e-46b4-9c2d-62127ebf8478"
      },
      "execution_count": null,
      "outputs": [
        {
          "output_type": "execute_result",
          "data": {
            "text/plain": [
              "array([[5, 5, 5],\n",
              "       [5, 5, 5],\n",
              "       [5, 5, 5]])"
            ]
          },
          "metadata": {},
          "execution_count": 98
        }
      ]
    },
    {
      "cell_type": "code",
      "source": [
        "def tup():\n",
        "  y=[]\n",
        "  for i in range(2):\n",
        "    y.append(int(input()))\n",
        "  a= tuple(y)\n",
        "  b= np.full(a,5)\n",
        "  return b\n",
        "tup()"
      ],
      "metadata": {
        "colab": {
          "base_uri": "https://localhost:8080/"
        },
        "id": "pbLl0A0S4ttP",
        "outputId": "cef39cd1-64d6-447e-aa94-19719be46941"
      },
      "execution_count": null,
      "outputs": [
        {
          "name": "stdout",
          "output_type": "stream",
          "text": [
            "3\n",
            "3\n"
          ]
        },
        {
          "output_type": "execute_result",
          "data": {
            "text/plain": [
              "array([[5, 5, 5],\n",
              "       [5, 5, 5],\n",
              "       [5, 5, 5]])"
            ]
          },
          "metadata": {},
          "execution_count": 99
        }
      ]
    },
    {
      "cell_type": "code",
      "source": [
        "def arr(m,n):\n",
        "  return(np.full(m,n))\n",
        "print(arr([3,3],5))"
      ],
      "metadata": {
        "colab": {
          "base_uri": "https://localhost:8080/"
        },
        "id": "qyvXtMKI5fov",
        "outputId": "0505319c-c984-4bee-ce1a-cfba0f9d86b8"
      },
      "execution_count": null,
      "outputs": [
        {
          "output_type": "stream",
          "name": "stdout",
          "text": [
            "[[5 5 5]\n",
            " [5 5 5]\n",
            " [5 5 5]]\n"
          ]
        }
      ]
    },
    {
      "cell_type": "code",
      "source": [
        "def add1(c,d):\n",
        "  f= np.add(c,d)\n",
        "  return f\n",
        "c= np.array ([1,2,3])\n",
        "d= np.array ([4,5,6])\n",
        "\n",
        "add1(c,d)"
      ],
      "metadata": {
        "colab": {
          "base_uri": "https://localhost:8080/"
        },
        "id": "PA6dwt-J52mw",
        "outputId": "dbd0a03c-af19-46ec-eb31-6e7c66e06ec7"
      },
      "execution_count": null,
      "outputs": [
        {
          "output_type": "execute_result",
          "data": {
            "text/plain": [
              "array([5, 7, 9])"
            ]
          },
          "metadata": {},
          "execution_count": 107
        }
      ]
    },
    {
      "cell_type": "code",
      "source": [
        "matrix= np.array([1,2,3,4,5,6,7,8,9])\n",
        "x= matrix.reshape(3,3)"
      ],
      "metadata": {
        "id": "UGHOqlSn60NW"
      },
      "execution_count": null,
      "outputs": []
    },
    {
      "cell_type": "code",
      "source": [
        "x"
      ],
      "metadata": {
        "colab": {
          "base_uri": "https://localhost:8080/"
        },
        "id": "wMX59i-x62dj",
        "outputId": "b5c2c2b9-5d02-4a87-e032-5944080602d0"
      },
      "execution_count": null,
      "outputs": [
        {
          "output_type": "execute_result",
          "data": {
            "text/plain": [
              "array([[1, 2, 3],\n",
              "       [4, 5, 6],\n",
              "       [7, 8, 9]])"
            ]
          },
          "metadata": {},
          "execution_count": 109
        }
      ]
    },
    {
      "cell_type": "code",
      "source": [
        "def top_left(matrix,a,b):\n",
        "  print(matrix[:a,:b])"
      ],
      "metadata": {
        "id": "ef6zyXBT9QsG"
      },
      "execution_count": null,
      "outputs": []
    },
    {
      "cell_type": "code",
      "source": [
        "top_left(x, 2,2)"
      ],
      "metadata": {
        "colab": {
          "base_uri": "https://localhost:8080/"
        },
        "id": "1he5zZrX9VVe",
        "outputId": "d4ccfb2d-4adf-4a04-ba0b-0a5130d92077"
      },
      "execution_count": null,
      "outputs": [
        {
          "output_type": "stream",
          "name": "stdout",
          "text": [
            "[[1 2]\n",
            " [4 5]]\n"
          ]
        }
      ]
    },
    {
      "cell_type": "code",
      "source": [
        "def bottom_right(matrix,a,b):\n",
        "  print(matrix[a:,b:])\n",
        "bottom_right(x,1,1)"
      ],
      "metadata": {
        "colab": {
          "base_uri": "https://localhost:8080/"
        },
        "id": "99H7dKoM9oKq",
        "outputId": "a59b9be0-3f70-4323-a9e3-f98ac3a2949c"
      },
      "execution_count": null,
      "outputs": [
        {
          "output_type": "stream",
          "name": "stdout",
          "text": [
            "[[5 6]\n",
            " [8 9]]\n"
          ]
        }
      ]
    },
    {
      "cell_type": "code",
      "source": [
        "def compute(k):\n",
        "  m= np.mean(k)\n",
        "  n= np.std(k)\n",
        "  dict1= {'mean': m, 'std': n}\n",
        "  return dict1"
      ],
      "metadata": {
        "id": "q3xyHIG9-U_s"
      },
      "execution_count": null,
      "outputs": []
    },
    {
      "cell_type": "code",
      "source": [
        "k= np.array ([1,1,1])\n",
        "compute(k)"
      ],
      "metadata": {
        "colab": {
          "base_uri": "https://localhost:8080/"
        },
        "id": "1Orey4hiCDT0",
        "outputId": "ccfe6fde-96ca-424e-89a4-82f457b01aa3"
      },
      "execution_count": null,
      "outputs": [
        {
          "output_type": "execute_result",
          "data": {
            "text/plain": [
              "{'mean': 1.0, 'std': 0.0}"
            ]
          },
          "metadata": {},
          "execution_count": 136
        }
      ]
    },
    {
      "cell_type": "code",
      "source": [
        ""
      ],
      "metadata": {
        "id": "GMagZ7iSCLSV"
      },
      "execution_count": null,
      "outputs": []
    }
  ]
}