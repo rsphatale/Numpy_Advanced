{
  "nbformat": 4,
  "nbformat_minor": 0,
  "metadata": {
    "colab": {
      "name": "Numpy Assignment.ipynb",
      "provenance": [],
      "collapsed_sections": []
    },
    "kernelspec": {
      "name": "python3",
      "display_name": "Python 3"
    },
    "language_info": {
      "name": "python"
    }
  },
  "cells": [
    {
      "cell_type": "markdown",
      "source": [
        "# Module 4: Data Structure Assignment\n",
        "\n",
        "1.  Create a list named ‘myList’ that is having the following elements: 10,20,30,’apple’, True, 8,10.\n",
        "\n",
        "a.  Now in the ‘myList’, append these values: 30,40 \n",
        "\n",
        "b.  After that reverse the elements of the ‘myList’ and store that in ‘reversedList’"
      ],
      "metadata": {
        "id": "_qiNTVl2oodr"
      }
    },
    {
      "cell_type": "code",
      "execution_count": null,
      "metadata": {
        "colab": {
          "base_uri": "https://localhost:8080/"
        },
        "id": "nY8ABWZFolT4",
        "outputId": "4d4a6a0b-c477-40f1-eea4-6481ea124325"
      },
      "outputs": [
        {
          "output_type": "stream",
          "name": "stdout",
          "text": [
            "<class 'list'>\n"
          ]
        }
      ],
      "source": [
        "myList= [10,20,30,'apple', True, 8,10]\n",
        "print(type(myList))"
      ]
    },
    {
      "cell_type": "code",
      "source": [
        "new_values= [30,40]\n",
        "myList.append(new_values)\n",
        "myList\n",
        "# myList.pop()"
      ],
      "metadata": {
        "colab": {
          "base_uri": "https://localhost:8080/"
        },
        "id": "z9n3abubpQ3l",
        "outputId": "70fb9af7-c8ed-4abb-df65-a92ddf8099d1"
      },
      "execution_count": null,
      "outputs": [
        {
          "output_type": "execute_result",
          "data": {
            "text/plain": [
              "[10, 20, 30, 'apple', True, 8, 10, [30, 40]]"
            ]
          },
          "metadata": {},
          "execution_count": 10
        }
      ]
    },
    {
      "cell_type": "code",
      "source": [
        "reversedList= myList.reverse\n",
        "reversedList"
      ],
      "metadata": {
        "colab": {
          "base_uri": "https://localhost:8080/"
        },
        "id": "-g6gkNQxppZ-",
        "outputId": "e66a29e8-3ccb-44b1-9285-577474d71592"
      },
      "execution_count": null,
      "outputs": [
        {
          "output_type": "execute_result",
          "data": {
            "text/plain": [
              "<function list.reverse>"
            ]
          },
          "metadata": {},
          "execution_count": 18
        }
      ]
    },
    {
      "cell_type": "markdown",
      "source": [
        "2.  Create a dictonary with key values as 1,2,3 and the values as ‘data’,’information’, and ‘text’.\n",
        "\n",
        "a.  After that eliminate the ‘text’ value form the dictonary.\n",
        "\n",
        "b.  Add ‘features’ in the dictonary.\n",
        "\n",
        "c.  Fetch the ‘data’ element from the dictonary and display it in the output."
      ],
      "metadata": {
        "id": "BWWI59WGoolA"
      }
    },
    {
      "cell_type": "code",
      "source": [
        "my_Dict={1: 'data', 2:'information',3:'text'}\n",
        "my_Dict"
      ],
      "metadata": {
        "colab": {
          "base_uri": "https://localhost:8080/"
        },
        "id": "QMXCx34srHGJ",
        "outputId": "ba112a17-bf60-4829-cf61-122a581a9322"
      },
      "execution_count": null,
      "outputs": [
        {
          "output_type": "execute_result",
          "data": {
            "text/plain": [
              "{1: 'data', 2: 'information', 3: 'text'}"
            ]
          },
          "metadata": {},
          "execution_count": 25
        }
      ]
    },
    {
      "cell_type": "code",
      "source": [
        "my_Dict.pop(3)\n",
        "print(my_Dict)"
      ],
      "metadata": {
        "colab": {
          "base_uri": "https://localhost:8080/"
        },
        "id": "uuMbWQtGrbJ_",
        "outputId": "0a912b6b-c6b2-4f79-a72e-8aac222f6f76"
      },
      "execution_count": null,
      "outputs": [
        {
          "output_type": "stream",
          "name": "stdout",
          "text": [
            "{1: 'data', 2: 'information'}\n"
          ]
        }
      ]
    },
    {
      "cell_type": "code",
      "source": [
        "new={3: 'features'}\n",
        "my_Dict.update(new)\n",
        "my_Dict"
      ],
      "metadata": {
        "colab": {
          "base_uri": "https://localhost:8080/"
        },
        "id": "RULOsqPbrssf",
        "outputId": "9d58f97d-97b0-467b-ed74-4cc68fd1a4b4"
      },
      "execution_count": null,
      "outputs": [
        {
          "output_type": "execute_result",
          "data": {
            "text/plain": [
              "{1: 'data', 2: 'information', 3: 'features'}"
            ]
          },
          "metadata": {},
          "execution_count": 34
        }
      ]
    },
    {
      "cell_type": "code",
      "source": [
        "my_Dict[1]"
      ],
      "metadata": {
        "colab": {
          "base_uri": "https://localhost:8080/",
          "height": 36
        },
        "id": "q2SfimNDsMx3",
        "outputId": "a680fbf7-6a81-4bf7-ba57-f66d0f47227e"
      },
      "execution_count": null,
      "outputs": [
        {
          "output_type": "execute_result",
          "data": {
            "application/vnd.google.colaboratory.intrinsic+json": {
              "type": "string"
            },
            "text/plain": [
              "'data'"
            ]
          },
          "metadata": {},
          "execution_count": 35
        }
      ]
    },
    {
      "cell_type": "markdown",
      "source": [
        "3.  Create a tuple and add these elements 1,2,3,apple,mango in ‘my_tuple"
      ],
      "metadata": {
        "id": "EuNFOMZ_tEZZ"
      }
    },
    {
      "cell_type": "code",
      "source": [
        "my_tuple=(1,2,3,'apple','mango')\n",
        "type(my_tuple)"
      ],
      "metadata": {
        "colab": {
          "base_uri": "https://localhost:8080/"
        },
        "id": "TMOdzUvCs3nO",
        "outputId": "d9ad67bd-fa1c-4166-f926-0c754ed41fbe"
      },
      "execution_count": null,
      "outputs": [
        {
          "output_type": "execute_result",
          "data": {
            "text/plain": [
              "tuple"
            ]
          },
          "metadata": {},
          "execution_count": 36
        }
      ]
    },
    {
      "cell_type": "markdown",
      "source": [
        "4.  Create another tuple named numeric_tuple consisting of only integer values 10,20,30,40,50\n",
        "\n",
        "a.  Find the minimum value from the numeric_tuple.\n",
        "\n",
        "b.  Concatenate my_tuple with numeric_tuple and store the result in r1.\n",
        "\n",
        "c.  Duplicate the tuple named my_tuple 2 times and store that in ‘newdupli’."
      ],
      "metadata": {
        "id": "X3B8UPgdtWxV"
      }
    },
    {
      "cell_type": "code",
      "source": [
        "numeric_tuple=(10,20,30,40,50)\n",
        "type(numeric_tuple)"
      ],
      "metadata": {
        "colab": {
          "base_uri": "https://localhost:8080/"
        },
        "id": "P2US1hzxtRJ8",
        "outputId": "778afa38-457b-4c60-8e71-4b2555114f23"
      },
      "execution_count": null,
      "outputs": [
        {
          "output_type": "execute_result",
          "data": {
            "text/plain": [
              "tuple"
            ]
          },
          "metadata": {},
          "execution_count": 42
        }
      ]
    },
    {
      "cell_type": "code",
      "source": [
        "min(numeric_tuple)"
      ],
      "metadata": {
        "colab": {
          "base_uri": "https://localhost:8080/"
        },
        "id": "JhYq4la8tiot",
        "outputId": "d971c294-ab93-4608-f545-7ac581ca6c09"
      },
      "execution_count": null,
      "outputs": [
        {
          "output_type": "execute_result",
          "data": {
            "text/plain": [
              "10"
            ]
          },
          "metadata": {},
          "execution_count": 41
        }
      ]
    },
    {
      "cell_type": "code",
      "source": [
        "r1= my_tuple+numeric_tuple\n",
        "print(type(r1))\n",
        "print(r1)"
      ],
      "metadata": {
        "colab": {
          "base_uri": "https://localhost:8080/"
        },
        "id": "7mBmoGlLt2lv",
        "outputId": "21af6bcc-70be-470d-d739-e1258cc5d15d"
      },
      "execution_count": null,
      "outputs": [
        {
          "output_type": "stream",
          "name": "stdout",
          "text": [
            "<class 'tuple'>\n",
            "(1, 2, 3, 'apple', 'mango', 10, 20, 30, 40, 50)\n"
          ]
        }
      ]
    },
    {
      "cell_type": "code",
      "source": [
        "newdupli= my_tuple*2\n",
        "newdupli"
      ],
      "metadata": {
        "colab": {
          "base_uri": "https://localhost:8080/"
        },
        "id": "vvK473m9uhlf",
        "outputId": "53a261b6-5e08-40b9-814e-692abe57805f"
      },
      "execution_count": null,
      "outputs": [
        {
          "output_type": "execute_result",
          "data": {
            "text/plain": [
              "(1, 2, 3, 'apple', 'mango', 1, 2, 3, 'apple', 'mango')"
            ]
          },
          "metadata": {},
          "execution_count": 48
        }
      ]
    },
    {
      "cell_type": "code",
      "source": [
        ""
      ],
      "metadata": {
        "id": "K8McAbW3vnrV"
      },
      "execution_count": null,
      "outputs": []
    },
    {
      "cell_type": "markdown",
      "source": [
        "5.  Create 2 sets with name set1 and set2, where set1 contains{1,2,3,4,5} and set2 to contains{2,3,7,6,1}        \n",
        "Perform the below operation:\n",
        "\n",
        "a.  set1 union set2\n",
        "\n",
        "b.  set1 intersection set2 \n",
        "\n",
        "c.  set1 difference set2"
      ],
      "metadata": {
        "id": "9wUgzZ2TvwVR"
      }
    },
    {
      "cell_type": "code",
      "source": [
        "set1,set2= {1,2,3,4,5},{2,3,7,6,1}\n",
        "print(set1)\n",
        "print(set2)"
      ],
      "metadata": {
        "colab": {
          "base_uri": "https://localhost:8080/"
        },
        "id": "xXv8wZhDwFOC",
        "outputId": "04fac1dc-38aa-4e77-a850-64410854614e"
      },
      "execution_count": null,
      "outputs": [
        {
          "output_type": "stream",
          "name": "stdout",
          "text": [
            "{1, 2, 3, 4, 5}\n",
            "{1, 2, 3, 6, 7}\n"
          ]
        }
      ]
    },
    {
      "cell_type": "code",
      "source": [
        "from typing import Union\n",
        "set1.union(set2)"
      ],
      "metadata": {
        "colab": {
          "base_uri": "https://localhost:8080/"
        },
        "id": "fx1qqBlPwPu7",
        "outputId": "3dcdfd6e-b129-4bd9-f1d1-75ef116c2d90"
      },
      "execution_count": null,
      "outputs": [
        {
          "output_type": "execute_result",
          "data": {
            "text/plain": [
              "{1, 2, 3, 4, 5, 6, 7}"
            ]
          },
          "metadata": {},
          "execution_count": 53
        }
      ]
    },
    {
      "cell_type": "code",
      "source": [
        "set1.intersection(set2)"
      ],
      "metadata": {
        "colab": {
          "base_uri": "https://localhost:8080/"
        },
        "id": "auBOamJCwyLP",
        "outputId": "473b460c-8288-464d-b91b-42aac5e00d29"
      },
      "execution_count": null,
      "outputs": [
        {
          "output_type": "execute_result",
          "data": {
            "text/plain": [
              "{1, 2, 3}"
            ]
          },
          "metadata": {},
          "execution_count": 55
        }
      ]
    },
    {
      "cell_type": "code",
      "source": [
        "set1.difference(set2)"
      ],
      "metadata": {
        "colab": {
          "base_uri": "https://localhost:8080/"
        },
        "id": "2w1Kjdi-xzC3",
        "outputId": "fb207ef0-14c2-4130-e519-6c83e7fde8e1"
      },
      "execution_count": null,
      "outputs": [
        {
          "output_type": "execute_result",
          "data": {
            "text/plain": [
              "{4, 5}"
            ]
          },
          "metadata": {},
          "execution_count": 56
        }
      ]
    },
    {
      "cell_type": "code",
      "source": [
        "set2.difference(set1)"
      ],
      "metadata": {
        "colab": {
          "base_uri": "https://localhost:8080/"
        },
        "id": "Rt0NiKvrx8Rz",
        "outputId": "ab39e7cb-0a4e-40d9-9458-9e58b1f13d41"
      },
      "execution_count": null,
      "outputs": [
        {
          "output_type": "execute_result",
          "data": {
            "text/plain": [
              "{6, 7}"
            ]
          },
          "metadata": {},
          "execution_count": 57
        }
      ]
    },
    {
      "cell_type": "code",
      "source": [
        ""
      ],
      "metadata": {
        "id": "ywQkXN3HyAwi"
      },
      "execution_count": null,
      "outputs": []
    },
    {
      "cell_type": "markdown",
      "source": [
        "# Module 4: Numpy Assignment\n",
        "1.  Create a 3x3 matrix array with values ranging from 2 to 10."
      ],
      "metadata": {
        "id": "yykoNvEJyKyR"
      }
    },
    {
      "cell_type": "code",
      "source": [
        "import numpy as np\n",
        "np.matrixlib"
      ],
      "metadata": {
        "colab": {
          "base_uri": "https://localhost:8080/"
        },
        "id": "RGMxCpASyUuu",
        "outputId": "6fe608ad-7806-40be-f600-3d2680f6db1b"
      },
      "execution_count": null,
      "outputs": [
        {
          "output_type": "execute_result",
          "data": {
            "text/plain": [
              "<module 'numpy.matrixlib' from '/usr/local/lib/python3.7/dist-packages/numpy/matrixlib/__init__.py'>"
            ]
          },
          "metadata": {},
          "execution_count": 2
        }
      ]
    },
    {
      "cell_type": "code",
      "source": [
        "np.matrix([[2,3,4],[5,6,7],[8,9,10]])"
      ],
      "metadata": {
        "colab": {
          "base_uri": "https://localhost:8080/"
        },
        "id": "fwhyv2-0ym5r",
        "outputId": "0064a5d7-04fd-49aa-bed8-9323d7b0dc73"
      },
      "execution_count": null,
      "outputs": [
        {
          "output_type": "execute_result",
          "data": {
            "text/plain": [
              "matrix([[ 2,  3,  4],\n",
              "        [ 5,  6,  7],\n",
              "        [ 8,  9, 10]])"
            ]
          },
          "metadata": {},
          "execution_count": 59
        }
      ]
    },
    {
      "cell_type": "markdown",
      "source": [
        "2.  Create a numpy array having user input values and convert the integer type to the float type of the elements of the array. \n",
        "\n",
        "For instance:\n",
        "\n",
        "Original array\n",
        "[1, 2, 3, 4]\n",
        "\n",
        "Array converted to a float type:\n",
        "[ 1. 2. 3. 4.]"
      ],
      "metadata": {
        "id": "Ia-GtM_kzieZ"
      }
    },
    {
      "cell_type": "code",
      "source": [
        "a= [1,2,3,4]\n",
        "print(f'{a}is an original array')\n",
        "x= np.asfarray(a)\n",
        "print(f'{x} is a float array')"
      ],
      "metadata": {
        "colab": {
          "base_uri": "https://localhost:8080/"
        },
        "id": "2n_YKIAVzI9u",
        "outputId": "11814009-14ef-45df-8a81-d7c959746b91"
      },
      "execution_count": null,
      "outputs": [
        {
          "output_type": "stream",
          "name": "stdout",
          "text": [
            "[1, 2, 3, 4]is an original array\n",
            "[1. 2. 3. 4.] is a float array\n"
          ]
        }
      ]
    },
    {
      "cell_type": "markdown",
      "source": [
        "3.  Write a Numpy program to append values to the end of an array. \n",
        "\n",
        "For instance:\n",
        "\n",
        "Original array:\n",
        "[10, 20, 30]\n",
        "\n",
        "After append values to the end of the array:\n",
        "[10 20 30 40 50 60 70 80 90]"
      ],
      "metadata": {
        "id": "RvMC3JRKCTix"
      }
    },
    {
      "cell_type": "code",
      "source": [
        "b=[10,20,30]\n",
        "new_array= [40,50,60,70,80,90]\n",
        "b.append(new_array)\n",
        "print(b)"
      ],
      "metadata": {
        "colab": {
          "base_uri": "https://localhost:8080/"
        },
        "id": "0CWbM07o6TUV",
        "outputId": "ec981807-1d8f-478c-b922-d5354af017cc"
      },
      "execution_count": null,
      "outputs": [
        {
          "output_type": "stream",
          "name": "stdout",
          "text": [
            "[10, 20, 30, [40, 50, 60, 70, 80, 90]]\n"
          ]
        }
      ]
    },
    {
      "cell_type": "markdown",
      "source": [
        "4.  Create two numpy arrays and add the elements of both the arrays and store the result in \n",
        "sumArray."
      ],
      "metadata": {
        "id": "J0SzkLXNEAes"
      }
    },
    {
      "cell_type": "code",
      "source": [
        "c=np.array([10,20,30])\n",
        "d= np.array([[90,40,10],[20,50,10]])\n",
        "sumArray = np.add(c,d)\n",
        "sumArray"
      ],
      "metadata": {
        "colab": {
          "base_uri": "https://localhost:8080/"
        },
        "id": "tXhas0lC6j0r",
        "outputId": "6fa86e00-f234-4487-9688-b3e04ed1a1c3"
      },
      "execution_count": null,
      "outputs": [
        {
          "output_type": "execute_result",
          "data": {
            "text/plain": [
              "array([[100,  60,  40],\n",
              "       [ 30,  70,  40]])"
            ]
          },
          "metadata": {},
          "execution_count": 92
        }
      ]
    },
    {
      "cell_type": "markdown",
      "source": [
        "5.  Create a 3*3 array having values from 10-90(interval of 10) and store that in array1. Perform the following tasks:\n",
        "\n",
        "a.  Extract the 1st row from the array.\n",
        "\n",
        "b.  Extract the last element from the array."
      ],
      "metadata": {
        "id": "tKuimaDrGRH_"
      }
    },
    {
      "cell_type": "code",
      "source": [
        "x= np.array([[10,20,30,],[40,50,60],[70,80,90]])\n",
        "x"
      ],
      "metadata": {
        "colab": {
          "base_uri": "https://localhost:8080/"
        },
        "id": "csT97WBG6lxG",
        "outputId": "61796bcd-a5fc-4083-ba4b-8471689a0c84"
      },
      "execution_count": null,
      "outputs": [
        {
          "output_type": "execute_result",
          "data": {
            "text/plain": [
              "array([[10, 20, 30],\n",
              "       [40, 50, 60],\n",
              "       [70, 80, 90]])"
            ]
          },
          "metadata": {},
          "execution_count": 105
        }
      ]
    },
    {
      "cell_type": "code",
      "source": [
        "x[:1]"
      ],
      "metadata": {
        "colab": {
          "base_uri": "https://localhost:8080/"
        },
        "id": "-xhcBc_sFsan",
        "outputId": "f43e9c28-a341-4dfd-83e8-5642ec9ba328"
      },
      "execution_count": null,
      "outputs": [
        {
          "output_type": "execute_result",
          "data": {
            "text/plain": [
              "array([[10, 20, 30]])"
            ]
          },
          "metadata": {},
          "execution_count": 109
        }
      ]
    },
    {
      "cell_type": "code",
      "source": [
        "x[2,2]"
      ],
      "metadata": {
        "colab": {
          "base_uri": "https://localhost:8080/"
        },
        "id": "r_JLoBK8IkVt",
        "outputId": "6c4377e5-29a0-47fb-da5b-3d4f4a84d709"
      },
      "execution_count": null,
      "outputs": [
        {
          "output_type": "execute_result",
          "data": {
            "text/plain": [
              "90"
            ]
          },
          "metadata": {},
          "execution_count": 112
        }
      ]
    },
    {
      "cell_type": "markdown",
      "source": [
        "# Module 4: Numpy Assignment"
      ],
      "metadata": {
        "id": "hYyUFG92KpHK"
      }
    },
    {
      "cell_type": "markdown",
      "source": [
        "1.  Create a function that takes dimensions as tuples e.g.(3, 3) and a numeric value and returns a \n",
        "Numpy array of the given dimension filled with the given value e.g.: solve((3, 3), 5) will return \n",
        "\n",
        "[\n",
        "\n",
        "[5, 5, 5],\n",
        "\n",
        "[5, 5, 5],\n",
        "\n",
        "[5, 5, 5]\n",
        "\n",
        "]"
      ],
      "metadata": {
        "id": "Ms2S-gwoKkfb"
      }
    },
    {
      "cell_type": "code",
      "source": [
        "def solve(row, column, element):\n",
        "  array1= np.full((row, column), element)\n",
        "  print(array1)\n",
        "\n",
        "solve(3,3,5)"
      ],
      "metadata": {
        "colab": {
          "base_uri": "https://localhost:8080/"
        },
        "id": "Ag-YjvkDI3LK",
        "outputId": "3da55d02-8fc7-4abf-a6c4-0f98471add81"
      },
      "execution_count": null,
      "outputs": [
        {
          "output_type": "stream",
          "name": "stdout",
          "text": [
            "[[5 5 5]\n",
            " [5 5 5]\n",
            " [5 5 5]]\n"
          ]
        }
      ]
    },
    {
      "cell_type": "markdown",
      "source": [
        "2.  Create a method that takes n Numpy arrays of same dimensions sums them and return the answer."
      ],
      "metadata": {
        "id": "88WMqbNTK-iX"
      }
    },
    {
      "cell_type": "code",
      "source": [
        "def addition(x,y,z):\n",
        "  array1= np.sum([x,y,z])\n",
        "  print(array1)\n",
        "\n",
        "x= np.array([1,2,3])\n",
        "y= np.array([3,4,5])\n",
        "z= np.array([5,6,7])\n",
        "\n",
        "addition(x,y,z)"
      ],
      "metadata": {
        "colab": {
          "base_uri": "https://localhost:8080/"
        },
        "id": "5LCRDK-eK0gp",
        "outputId": "170b32b8-1444-4b8f-de78-5cbe3b0a79b3"
      },
      "execution_count": null,
      "outputs": [
        {
          "output_type": "stream",
          "name": "stdout",
          "text": [
            "36\n"
          ]
        }
      ]
    },
    {
      "cell_type": "markdown",
      "source": [
        "3.  Given a 2 D Array of N X M Dimension, Write a function that accepts this array as well as two numbers N and M. The method should return the top-left N X M sub matrix e.g:\n",
        "\n",
        "[\n",
        "\n",
        "[1, 2, 3],\n",
        "\n",
        "[4, 5, 6],\n",
        "\n",
        "[7, 8, 9],\n",
        "\n",
        "]\n",
        "\n",
        "top_left_sub_matrix (matrix, 2, 2) -> should return:\n",
        "\n",
        "[\n",
        "\n",
        "[1, 2]\n",
        "\n",
        "[4, 5]\n",
        "\n",
        "]"
      ],
      "metadata": {
        "id": "LhZyIc6KIz0z"
      }
    },
    {
      "cell_type": "code",
      "source": [
        "import numpy as np\n",
        "\n",
        "def new_arr(mat, row, col):\n",
        "  arr= mat[:row,:col]\n",
        "  print(arr)\n",
        "\n",
        "array= np.arange(1,10,1)\n",
        "matrix= array.reshape(3,3)  "
      ],
      "metadata": {
        "id": "CbEE6wwnHBrJ"
      },
      "execution_count": 10,
      "outputs": []
    },
    {
      "cell_type": "code",
      "source": [
        "new_arr(matrix, 2,2)"
      ],
      "metadata": {
        "id": "UNeEic9W9lqV",
        "colab": {
          "base_uri": "https://localhost:8080/"
        },
        "outputId": "48205543-0a61-4b8f-8e11-a94988f5d3ed"
      },
      "execution_count": 11,
      "outputs": [
        {
          "output_type": "stream",
          "name": "stdout",
          "text": [
            "[[1 2]\n",
            " [4 5]]\n"
          ]
        }
      ]
    },
    {
      "cell_type": "markdown",
      "source": [
        "4.  Given a 2 D Array of N X M Dimension, Write a function that accepts this array as well as two \n",
        "numbers N and M The method should return the bottom-right N X M sub matrix e.g.:\n",
        "\n",
        "[\n",
        "\n",
        "[1, 2, 3],\n",
        "\n",
        "[4, 5, 6],\n",
        "\n",
        "[7, 8, 9],\n",
        "\n",
        "]\n",
        "\n",
        "sub_matrix(matrix, 1, 1) -> should return : (Keep in mind these arrays are zero indexed)\n",
        "\n",
        "[\n",
        "\n",
        "[5, 6]\n",
        "\n",
        "[8, 9]\n",
        "\n",
        "]"
      ],
      "metadata": {
        "id": "Zh984LR3KRCn"
      }
    },
    {
      "cell_type": "code",
      "source": [
        "def new_arr2(mat, row, col):\n",
        "  arr= mat[row:, col:]\n",
        "  print(arr)\n",
        "\n",
        "arr= np.arange(1,10,1)\n",
        "matrix= arr.reshape(3,3)"
      ],
      "metadata": {
        "id": "wZcKCPYOxvyX"
      },
      "execution_count": 12,
      "outputs": []
    },
    {
      "cell_type": "code",
      "source": [
        "new_arr2(matrix, 1,1)"
      ],
      "metadata": {
        "colab": {
          "base_uri": "https://localhost:8080/"
        },
        "id": "0kB-BCXEK-Eq",
        "outputId": "bebd0da7-bddb-49ea-9066-5bd2bfa5e496"
      },
      "execution_count": 13,
      "outputs": [
        {
          "output_type": "stream",
          "name": "stdout",
          "text": [
            "[[5 6]\n",
            " [8 9]]\n"
          ]
        }
      ]
    },
    {
      "cell_type": "markdown",
      "source": [
        "5.  Given a 1D Numpy Array. Write a function that accepts this array as parameters. The method should return a dictionary with 'mean' and 'std_dev' as key and array's mean and array's standard deviation as values: \n",
        "\n",
        "[1, 1, 1]\n",
        "\n",
        "solution(arr) -> should return :\n",
        "\n",
        "{'mean': 1.0, 'std_dev': 0.0}"
      ],
      "metadata": {
        "id": "rTU599TdL4KR"
      }
    },
    {
      "cell_type": "code",
      "source": [
        "def diction():\n",
        "  dict1= dict(mean= array.mean(), std_dev= np.std(array))\n",
        "  print(dict1)\n",
        "\n",
        "array= np.array((1,1,1), dtype= int)"
      ],
      "metadata": {
        "id": "xN1WNEN3LEL4"
      },
      "execution_count": 45,
      "outputs": []
    },
    {
      "cell_type": "code",
      "source": [
        "diction()"
      ],
      "metadata": {
        "colab": {
          "base_uri": "https://localhost:8080/"
        },
        "id": "qb43hx9eMnio",
        "outputId": "ea00f13c-a007-413d-bcb8-82a06b0e25ca"
      },
      "execution_count": 46,
      "outputs": [
        {
          "output_type": "stream",
          "name": "stdout",
          "text": [
            "{'mean': 1.0, 'std_dev': 0.0}\n"
          ]
        }
      ]
    },
    {
      "cell_type": "code",
      "source": [
        ""
      ],
      "metadata": {
        "id": "nlv4q9lTPawv"
      },
      "execution_count": null,
      "outputs": []
    }
  ]
}